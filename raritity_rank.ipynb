{
 "cells": [
  {
   "cell_type": "code",
   "execution_count": 1,
   "metadata": {},
   "outputs": [],
   "source": [
    "import pandas as pd\n",
    "\n",
    "from functools import reduce\n",
    "from collections import Counter"
   ]
  },
  {
   "cell_type": "markdown",
   "metadata": {},
   "source": [
    "## Load Data"
   ]
  },
  {
   "cell_type": "code",
   "execution_count": 2,
   "metadata": {},
   "outputs": [],
   "source": [
    "metadata_fpath = './nft_data/ETHEREUM/0xbc4ca0eda7647a8ab7c2061c2e118a18a936f13d/metadata.json'"
   ]
  },
  {
   "cell_type": "code",
   "execution_count": 3,
   "metadata": {},
   "outputs": [],
   "source": [
    "pd_metadata = pd.read_json(metadata_fpath)"
   ]
  },
  {
   "cell_type": "code",
   "execution_count": 4,
   "metadata": {},
   "outputs": [
    {
     "data": {
      "text/html": [
       "<div>\n",
       "<style scoped>\n",
       "    .dataframe tbody tr th:only-of-type {\n",
       "        vertical-align: middle;\n",
       "    }\n",
       "\n",
       "    .dataframe tbody tr th {\n",
       "        vertical-align: top;\n",
       "    }\n",
       "\n",
       "    .dataframe thead th {\n",
       "        text-align: right;\n",
       "    }\n",
       "</style>\n",
       "<table border=\"1\" class=\"dataframe\">\n",
       "  <thead>\n",
       "    <tr style=\"text-align: right;\">\n",
       "      <th></th>\n",
       "      <th>id</th>\n",
       "      <th>blockchain</th>\n",
       "      <th>collection</th>\n",
       "      <th>contract</th>\n",
       "      <th>tokenId</th>\n",
       "      <th>creators</th>\n",
       "      <th>lazySupply</th>\n",
       "      <th>pending</th>\n",
       "      <th>mintedAt</th>\n",
       "      <th>lastUpdatedAt</th>\n",
       "      <th>...</th>\n",
       "      <th>meta</th>\n",
       "      <th>deleted</th>\n",
       "      <th>originOrders</th>\n",
       "      <th>ammOrders</th>\n",
       "      <th>auctions</th>\n",
       "      <th>totalStock</th>\n",
       "      <th>sellers</th>\n",
       "      <th>lastSale</th>\n",
       "      <th>bestSellOrder</th>\n",
       "      <th>bestBidOrder</th>\n",
       "    </tr>\n",
       "  </thead>\n",
       "  <tbody>\n",
       "    <tr>\n",
       "      <th>0</th>\n",
       "      <td>ETHEREUM:0xbc4ca0eda7647a8ab7c2061c2e118a18a93...</td>\n",
       "      <td>ETHEREUM</td>\n",
       "      <td>ETHEREUM:0xbc4ca0eda7647a8ab7c2061c2e118a18a93...</td>\n",
       "      <td>ETHEREUM:0xbc4ca0eda7647a8ab7c2061c2e118a18a93...</td>\n",
       "      <td>449</td>\n",
       "      <td>[{'account': 'ETHEREUM:0x29ebde3010cb23bac83b3...</td>\n",
       "      <td>0</td>\n",
       "      <td>[]</td>\n",
       "      <td>2021-04-30T21:08:58Z</td>\n",
       "      <td>2022-07-15T09:29:58Z</td>\n",
       "      <td>...</td>\n",
       "      <td>{'name': 'BoredApeYachtClub #449', 'tags': [],...</td>\n",
       "      <td>False</td>\n",
       "      <td>[]</td>\n",
       "      <td>{'ids': []}</td>\n",
       "      <td>[]</td>\n",
       "      <td>0</td>\n",
       "      <td>0</td>\n",
       "      <td>{'date': '2022-11-01T02:30:59Z', 'seller': 'ET...</td>\n",
       "      <td>NaN</td>\n",
       "      <td>NaN</td>\n",
       "    </tr>\n",
       "    <tr>\n",
       "      <th>1</th>\n",
       "      <td>ETHEREUM:0xbc4ca0eda7647a8ab7c2061c2e118a18a93...</td>\n",
       "      <td>ETHEREUM</td>\n",
       "      <td>ETHEREUM:0xbc4ca0eda7647a8ab7c2061c2e118a18a93...</td>\n",
       "      <td>ETHEREUM:0xbc4ca0eda7647a8ab7c2061c2e118a18a93...</td>\n",
       "      <td>7665</td>\n",
       "      <td>[{'account': 'ETHEREUM:0x3f7dd0b106b10d06bb481...</td>\n",
       "      <td>0</td>\n",
       "      <td>[]</td>\n",
       "      <td>2021-05-01T08:19:15Z</td>\n",
       "      <td>2022-07-15T08:35:55Z</td>\n",
       "      <td>...</td>\n",
       "      <td>{'name': 'BoredApeYachtClub #7665', 'tags': []...</td>\n",
       "      <td>False</td>\n",
       "      <td>[]</td>\n",
       "      <td>{'ids': []}</td>\n",
       "      <td>[]</td>\n",
       "      <td>0</td>\n",
       "      <td>0</td>\n",
       "      <td>{'date': '2022-07-15T08:35:55Z', 'seller': 'ET...</td>\n",
       "      <td>NaN</td>\n",
       "      <td>NaN</td>\n",
       "    </tr>\n",
       "    <tr>\n",
       "      <th>2</th>\n",
       "      <td>ETHEREUM:0xbc4ca0eda7647a8ab7c2061c2e118a18a93...</td>\n",
       "      <td>ETHEREUM</td>\n",
       "      <td>ETHEREUM:0xbc4ca0eda7647a8ab7c2061c2e118a18a93...</td>\n",
       "      <td>ETHEREUM:0xbc4ca0eda7647a8ab7c2061c2e118a18a93...</td>\n",
       "      <td>4175</td>\n",
       "      <td>[{'account': 'ETHEREUM:0x090c847ae5623cb7c538b...</td>\n",
       "      <td>0</td>\n",
       "      <td>[]</td>\n",
       "      <td>2021-05-01T07:32:44Z</td>\n",
       "      <td>2022-07-15T08:34:29Z</td>\n",
       "      <td>...</td>\n",
       "      <td>{'name': 'BoredApeYachtClub #4175', 'tags': []...</td>\n",
       "      <td>False</td>\n",
       "      <td>[]</td>\n",
       "      <td>{'ids': []}</td>\n",
       "      <td>[]</td>\n",
       "      <td>0</td>\n",
       "      <td>0</td>\n",
       "      <td>NaN</td>\n",
       "      <td>NaN</td>\n",
       "      <td>NaN</td>\n",
       "    </tr>\n",
       "  </tbody>\n",
       "</table>\n",
       "<p>3 rows × 21 columns</p>\n",
       "</div>"
      ],
      "text/plain": [
       "                                                  id blockchain  \\\n",
       "0  ETHEREUM:0xbc4ca0eda7647a8ab7c2061c2e118a18a93...   ETHEREUM   \n",
       "1  ETHEREUM:0xbc4ca0eda7647a8ab7c2061c2e118a18a93...   ETHEREUM   \n",
       "2  ETHEREUM:0xbc4ca0eda7647a8ab7c2061c2e118a18a93...   ETHEREUM   \n",
       "\n",
       "                                          collection  \\\n",
       "0  ETHEREUM:0xbc4ca0eda7647a8ab7c2061c2e118a18a93...   \n",
       "1  ETHEREUM:0xbc4ca0eda7647a8ab7c2061c2e118a18a93...   \n",
       "2  ETHEREUM:0xbc4ca0eda7647a8ab7c2061c2e118a18a93...   \n",
       "\n",
       "                                            contract  tokenId  \\\n",
       "0  ETHEREUM:0xbc4ca0eda7647a8ab7c2061c2e118a18a93...      449   \n",
       "1  ETHEREUM:0xbc4ca0eda7647a8ab7c2061c2e118a18a93...     7665   \n",
       "2  ETHEREUM:0xbc4ca0eda7647a8ab7c2061c2e118a18a93...     4175   \n",
       "\n",
       "                                            creators  lazySupply pending  \\\n",
       "0  [{'account': 'ETHEREUM:0x29ebde3010cb23bac83b3...           0      []   \n",
       "1  [{'account': 'ETHEREUM:0x3f7dd0b106b10d06bb481...           0      []   \n",
       "2  [{'account': 'ETHEREUM:0x090c847ae5623cb7c538b...           0      []   \n",
       "\n",
       "               mintedAt         lastUpdatedAt  ...  \\\n",
       "0  2021-04-30T21:08:58Z  2022-07-15T09:29:58Z  ...   \n",
       "1  2021-05-01T08:19:15Z  2022-07-15T08:35:55Z  ...   \n",
       "2  2021-05-01T07:32:44Z  2022-07-15T08:34:29Z  ...   \n",
       "\n",
       "                                                meta deleted  originOrders  \\\n",
       "0  {'name': 'BoredApeYachtClub #449', 'tags': [],...   False            []   \n",
       "1  {'name': 'BoredApeYachtClub #7665', 'tags': []...   False            []   \n",
       "2  {'name': 'BoredApeYachtClub #4175', 'tags': []...   False            []   \n",
       "\n",
       "     ammOrders auctions totalStock  sellers  \\\n",
       "0  {'ids': []}       []          0        0   \n",
       "1  {'ids': []}       []          0        0   \n",
       "2  {'ids': []}       []          0        0   \n",
       "\n",
       "                                            lastSale bestSellOrder  \\\n",
       "0  {'date': '2022-11-01T02:30:59Z', 'seller': 'ET...           NaN   \n",
       "1  {'date': '2022-07-15T08:35:55Z', 'seller': 'ET...           NaN   \n",
       "2                                                NaN           NaN   \n",
       "\n",
       "  bestBidOrder  \n",
       "0          NaN  \n",
       "1          NaN  \n",
       "2          NaN  \n",
       "\n",
       "[3 rows x 21 columns]"
      ]
     },
     "execution_count": 4,
     "metadata": {},
     "output_type": "execute_result"
    }
   ],
   "source": [
    "pd_metadata.head(3)"
   ]
  },
  {
   "cell_type": "markdown",
   "metadata": {},
   "source": [
    "## Preprocess"
   ]
  },
  {
   "cell_type": "code",
   "execution_count": 5,
   "metadata": {},
   "outputs": [],
   "source": [
    "pd_metadata['num_attributes'] = pd_metadata['meta'].apply(lambda x: len(x['attributes']))\n",
    "pd_metadata['attributes_dict'] = pd_metadata['meta'].apply(lambda x: {attr_kv['key']: attr_kv['value'] for attr_kv in  x['attributes']})"
   ]
  },
  {
   "cell_type": "code",
   "execution_count": 6,
   "metadata": {},
   "outputs": [],
   "source": [
    "merged_attributes_list = pd_metadata['attributes_dict'].apply(lambda x: list(x.keys())).values.sum()\n",
    "attributes_dict = dict(Counter(merged_attributes_list))"
   ]
  },
  {
   "cell_type": "code",
   "execution_count": 7,
   "metadata": {},
   "outputs": [
    {
     "data": {
      "text/plain": [
       "{'Eyes': 10000,\n",
       " 'Mouth': 10000,\n",
       " 'Hat': 7744,\n",
       " 'Fur': 10000,\n",
       " 'Background': 10000,\n",
       " 'Clothes': 8114,\n",
       " 'Earring': 2977}"
      ]
     },
     "execution_count": 7,
     "metadata": {},
     "output_type": "execute_result"
    }
   ],
   "source": [
    "attributes_dict"
   ]
  },
  {
   "cell_type": "code",
   "execution_count": 8,
   "metadata": {},
   "outputs": [],
   "source": [
    "attribute_key_name_list = list(attributes_dict.keys())\n",
    "attribute_key_column_name_list = [f'attribute_{attribute_key}' for attribute_key in attribute_key_name_list]\n",
    "attribute_key_prob_column_name_list = [f'attribute_{attribute_key}_prob' for attribute_key in attribute_key_name_list]\n",
    "attribute_key_score_column_name_list = [f'attribute_{attribute_key}_score' for attribute_key in attribute_key_name_list]"
   ]
  },
  {
   "cell_type": "code",
   "execution_count": 9,
   "metadata": {},
   "outputs": [],
   "source": [
    "for attribute_key, attribute_key_column_name in zip(attribute_key_name_list, attribute_key_column_name_list):\n",
    "    pd_metadata[attribute_key_column_name] = pd_metadata['attributes_dict'].apply(lambda x: x[attribute_key] if attribute_key in x else None)"
   ]
  },
  {
   "cell_type": "markdown",
   "metadata": {},
   "source": [
    "## Calculator Score"
   ]
  },
  {
   "cell_type": "code",
   "execution_count": 10,
   "metadata": {},
   "outputs": [],
   "source": [
    "def calc_attribute_rarity_prob_and_score(attribute_key_column_name):\n",
    "    attr_count_dict = pd_metadata[attribute_key_column_name].value_counts().to_dict()\n",
    "    attr_score_dict = {k: 1 / (attr_count_dict[k] / len(pd_metadata)) for k,v in attr_count_dict.items()}\n",
    "    attr_prob_dict = {k: (attr_count_dict[k] / len(pd_metadata)) for k,v in attr_count_dict.items()}\n",
    "    pd_metadata[f'{attribute_key_column_name}_score'] = pd_metadata[attribute_key_column_name].apply(lambda x: attr_score_dict.get(x, 0))\n",
    "    pd_metadata[f'{attribute_key_column_name}_prob'] = pd_metadata[attribute_key_column_name].apply(lambda x: attr_prob_dict.get(x, 0))"
   ]
  },
  {
   "cell_type": "code",
   "execution_count": 11,
   "metadata": {},
   "outputs": [],
   "source": [
    "for attribute_key_cname, attribute_key_score_cname in zip(attribute_key_column_name_list, attribute_key_score_column_name_list):\n",
    "    calc_attribute_rarity_prob_and_score(attribute_key_cname)"
   ]
  },
  {
   "cell_type": "code",
   "execution_count": 12,
   "metadata": {},
   "outputs": [],
   "source": [
    "pd_metadata['sum_attribute_prob'] = pd_metadata[attribute_key_prob_column_name_list].sum(axis=1)\n",
    "pd_metadata['mean_attribute_prob'] = pd_metadata[attribute_key_prob_column_name_list].mean(axis=1)\n",
    "pd_metadata['mul_attribute_prob'] = pd_metadata[attribute_key_prob_column_name_list].replace(to_replace=0, value=1.).apply(lambda x: reduce(lambda m,n: m * n, x), axis=1)"
   ]
  },
  {
   "cell_type": "code",
   "execution_count": 13,
   "metadata": {},
   "outputs": [],
   "source": [
    "pd_metadata['sum_attribute_score'] = pd_metadata[attribute_key_score_column_name_list].sum(axis=1)\n",
    "pd_metadata['mean_attribute_score'] = pd_metadata[attribute_key_score_column_name_list].mean(axis=1)\n",
    "pd_metadata['mul_attribute_score'] = pd_metadata[attribute_key_score_column_name_list].replace(to_replace=0, value=1.).apply(lambda x: reduce(lambda m,n: m * n, x), axis=1)"
   ]
  },
  {
   "cell_type": "code",
   "execution_count": 17,
   "metadata": {},
   "outputs": [],
   "source": [
    "pd_metadata['sum_attribute_prob_rank'] = pd_metadata['sum_attribute_prob'].rank(method='dense', ascending=True)\n",
    "pd_metadata['mean_attribute_prob_rank'] = pd_metadata['mean_attribute_prob'].rank(method='dense', ascending=True)\n",
    "pd_metadata['mul_attribute_prob_rank'] = pd_metadata['mul_attribute_prob'].rank(method='dense', ascending=True)"
   ]
  },
  {
   "cell_type": "code",
   "execution_count": 15,
   "metadata": {},
   "outputs": [],
   "source": [
    "pd_metadata['sum_attribute_score_rank'] = pd_metadata['sum_attribute_score'].rank(method='dense', ascending=False)\n",
    "pd_metadata['mean_attribute_score_rank'] = pd_metadata['mean_attribute_score'].rank(method='dense', ascending=False)\n",
    "pd_metadata['mul_attribute_score_rank'] = pd_metadata['mul_attribute_score'].rank(method='dense', ascending=False)"
   ]
  },
  {
   "cell_type": "code",
   "execution_count": 18,
   "metadata": {},
   "outputs": [
    {
     "data": {
      "text/html": [
       "<div>\n",
       "<style scoped>\n",
       "    .dataframe tbody tr th:only-of-type {\n",
       "        vertical-align: middle;\n",
       "    }\n",
       "\n",
       "    .dataframe tbody tr th {\n",
       "        vertical-align: top;\n",
       "    }\n",
       "\n",
       "    .dataframe thead th {\n",
       "        text-align: right;\n",
       "    }\n",
       "</style>\n",
       "<table border=\"1\" class=\"dataframe\">\n",
       "  <thead>\n",
       "    <tr style=\"text-align: right;\">\n",
       "      <th></th>\n",
       "      <th>id</th>\n",
       "      <th>blockchain</th>\n",
       "      <th>collection</th>\n",
       "      <th>contract</th>\n",
       "      <th>tokenId</th>\n",
       "      <th>creators</th>\n",
       "      <th>lazySupply</th>\n",
       "      <th>pending</th>\n",
       "      <th>mintedAt</th>\n",
       "      <th>lastUpdatedAt</th>\n",
       "      <th>...</th>\n",
       "      <th>mul_attribute_prob</th>\n",
       "      <th>sum_attribute_score</th>\n",
       "      <th>mean_attribute_score</th>\n",
       "      <th>mul_attribute_score</th>\n",
       "      <th>sum_attribute_prob_rank</th>\n",
       "      <th>mean_attribute_prob_rank</th>\n",
       "      <th>mul_attribute_prob_rank</th>\n",
       "      <th>sum_attribute_score_rank</th>\n",
       "      <th>mean_attribute_score_rank</th>\n",
       "      <th>mul_attribute_score_rank</th>\n",
       "    </tr>\n",
       "  </thead>\n",
       "  <tbody>\n",
       "    <tr>\n",
       "      <th>4581</th>\n",
       "      <td>ETHEREUM:0xbc4ca0eda7647a8ab7c2061c2e118a18a93...</td>\n",
       "      <td>ETHEREUM</td>\n",
       "      <td>ETHEREUM:0xbc4ca0eda7647a8ab7c2061c2e118a18a93...</td>\n",
       "      <td>ETHEREUM:0xbc4ca0eda7647a8ab7c2061c2e118a18a93...</td>\n",
       "      <td>8135</td>\n",
       "      <td>[{'account': 'ETHEREUM:0x536835937de4340f73d98...</td>\n",
       "      <td>0</td>\n",
       "      <td>[]</td>\n",
       "      <td>2022-02-21T04:59:11Z</td>\n",
       "      <td>2022-02-21T04:59:11Z</td>\n",
       "      <td>...</td>\n",
       "      <td>6.443575e-12</td>\n",
       "      <td>662.900974</td>\n",
       "      <td>94.700139</td>\n",
       "      <td>1.551934e+11</td>\n",
       "      <td>1915.0</td>\n",
       "      <td>1908.0</td>\n",
       "      <td>6.0</td>\n",
       "      <td>1.0</td>\n",
       "      <td>1.0</td>\n",
       "      <td>6.0</td>\n",
       "    </tr>\n",
       "  </tbody>\n",
       "</table>\n",
       "<p>1 rows × 56 columns</p>\n",
       "</div>"
      ],
      "text/plain": [
       "                                                     id blockchain  \\\n",
       "4581  ETHEREUM:0xbc4ca0eda7647a8ab7c2061c2e118a18a93...   ETHEREUM   \n",
       "\n",
       "                                             collection  \\\n",
       "4581  ETHEREUM:0xbc4ca0eda7647a8ab7c2061c2e118a18a93...   \n",
       "\n",
       "                                               contract  tokenId  \\\n",
       "4581  ETHEREUM:0xbc4ca0eda7647a8ab7c2061c2e118a18a93...     8135   \n",
       "\n",
       "                                               creators  lazySupply pending  \\\n",
       "4581  [{'account': 'ETHEREUM:0x536835937de4340f73d98...           0      []   \n",
       "\n",
       "                  mintedAt         lastUpdatedAt  ...  mul_attribute_prob  \\\n",
       "4581  2022-02-21T04:59:11Z  2022-02-21T04:59:11Z  ...        6.443575e-12   \n",
       "\n",
       "     sum_attribute_score  mean_attribute_score mul_attribute_score  \\\n",
       "4581          662.900974             94.700139        1.551934e+11   \n",
       "\n",
       "     sum_attribute_prob_rank mean_attribute_prob_rank  \\\n",
       "4581                  1915.0                   1908.0   \n",
       "\n",
       "      mul_attribute_prob_rank  sum_attribute_score_rank  \\\n",
       "4581                      6.0                       1.0   \n",
       "\n",
       "     mean_attribute_score_rank mul_attribute_score_rank  \n",
       "4581                       1.0                      6.0  \n",
       "\n",
       "[1 rows x 56 columns]"
      ]
     },
     "execution_count": 18,
     "metadata": {},
     "output_type": "execute_result"
    }
   ],
   "source": [
    "pd_metadata[pd_metadata['sum_attribute_score_rank'] == 1]"
   ]
  }
 ],
 "metadata": {
  "kernelspec": {
   "display_name": "Python 3.9.13 ('nft')",
   "language": "python",
   "name": "python3"
  },
  "language_info": {
   "codemirror_mode": {
    "name": "ipython",
    "version": 3
   },
   "file_extension": ".py",
   "mimetype": "text/x-python",
   "name": "python",
   "nbconvert_exporter": "python",
   "pygments_lexer": "ipython3",
   "version": "3.9.15"
  },
  "orig_nbformat": 4,
  "vscode": {
   "interpreter": {
    "hash": "da861e00605b6d6eb120f98b03a195fc1bf927261fd97bbc6c74a9524b364c65"
   }
  }
 },
 "nbformat": 4,
 "nbformat_minor": 2
}
